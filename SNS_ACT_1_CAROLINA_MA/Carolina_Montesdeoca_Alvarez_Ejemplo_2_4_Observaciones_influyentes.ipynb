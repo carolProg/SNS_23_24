{
 "cells": [
  {
   "cell_type": "markdown",
   "metadata": {
    "id": "JNlEk7ihS-5l"
   },
   "source": [
    "# **Ejemplo 2_4:** Determinación de observaciones influyentes: método de jackknife\n",
    "\n",
    "---\n",
    "\n"
   ]
  },
  {
   "cell_type": "markdown",
   "metadata": {
    "id": "xqnJ20FMVhDE"
   },
   "source": [
    "**PROBLEMA**: Queremos averiguar si existe algún dato  influyente para los procedimientos estadísticos de calcular la **media** y la **mediana**.\n",
    "> Vamos a generar una muestra simulando los ingresos de un vecindario. Supongamos que hay un vecino con unos ingresos signficativamente altos.\n",
    "\n"
   ]
  },
  {
   "cell_type": "code",
   "execution_count": 1,
   "metadata": {
    "colab": {
     "base_uri": "https://localhost:8080/"
    },
    "id": "e6NC0HJ7Tl4Q",
    "outputId": "13d25a1c-fe40-4e83-ad1b-94777982e0fc"
   },
   "outputs": [
    {
     "data": {
      "text/plain": [
       "array([15088.16866976, 15418.19840141, 15734.54993286, 15863.1891019 ,\n",
       "       15900.99199346, 15976.19091218, 16065.28740846, 16076.0803968 ,\n",
       "       16080.396604  , 16093.87394362, 16230.99569423, 16356.30883638,\n",
       "       16391.05471534, 16399.53666727, 16429.76520489, 16430.22605648,\n",
       "       16472.23814912, 16506.25601234, 16608.00857256, 16680.78643896,\n",
       "       17136.82562646, 17257.38914481, 17449.33587048, 17473.22462941,\n",
       "       17787.49153553, 17796.59857265, 17863.99189135, 17866.57170504,\n",
       "       17930.00086218, 18029.23605381, 18151.20251057, 18178.66144402,\n",
       "       18247.28942281, 18349.6148917 , 18359.73400586, 18368.76631486,\n",
       "       18399.20440442, 18447.24845996, 18491.64362995, 18542.39963897,\n",
       "       18629.93657956, 18659.447816  , 18707.35776162, 18782.06963533,\n",
       "       19120.55590623, 19300.44547943, 19390.06586292, 19490.66140063,\n",
       "       19576.41846511, 19592.23525297, 19641.68815427, 19703.09323869,\n",
       "       20131.79000655, 20144.40869092, 20259.97884259, 20363.92036153,\n",
       "       20765.0093    , 20921.01678918, 21041.00705409, 21166.05660042,\n",
       "       21238.50433427, 21248.98951606, 21277.57019136, 21386.00467423,\n",
       "       21700.45079257, 21828.44569896, 21918.36186635, 22109.41467321,\n",
       "       22277.62252983, 22375.69143584, 22648.32723602, 22697.16037225,\n",
       "       22719.95125574, 22854.96742846, 22975.00823177, 23036.68135264,\n",
       "       23049.10493756, 23154.25832262, 23291.69006201, 23341.4119319 ,\n",
       "       23397.56504815, 23592.19904231, 23596.36807568, 23736.8059911 ,\n",
       "       23753.90626155, 23911.15313045, 24060.39549931, 24093.15899423,\n",
       "       24178.81818209, 24184.99823939, 24194.45002281, 24253.16923715,\n",
       "       24402.71819937, 24422.58763433, 24497.08766578, 24703.49693113,\n",
       "       24720.73467051, 24783.36642087, 24803.15924836, 24875.50677766])"
      ]
     },
     "execution_count": 1,
     "metadata": {},
     "output_type": "execute_result"
    }
   ],
   "source": [
    "# LIBRERÍAS EMPLEADAS EN EL EJEMPLO\n",
    "# Tratamiento de datos\n",
    "# ==============================================================================\n",
    "import numpy as np\n",
    "import pandas as pd\n",
    "\n",
    "# Generación de datos\n",
    "# ==============================================================================\n",
    "# Generamos ingresos uniformemente distribuidos en [15000,25000]\n",
    "datos = 15000+np.random.rand(100)*10000\n",
    "datos_ord = datos\n",
    "datos_ord.sort()\n",
    "datos"
   ]
  },
  {
   "cell_type": "markdown",
   "metadata": {
    "id": "ayRFJ682gR2B"
   },
   "source": [
    "**Ejercicio**: Calcular la media y la mediana antes de realizar la modificación de incluir unos ingresos de 500.000€"
   ]
  },
  {
   "cell_type": "code",
   "execution_count": 2,
   "metadata": {
    "colab": {
     "base_uri": "https://localhost:8080/"
    },
    "id": "llh99QlXx5Rg",
    "outputId": "7c72d8fb-2c46-440d-f9af-4594a48d7510"
   },
   "outputs": [
    {
     "name": "stdout",
     "output_type": "stream",
     "text": [
      " Media= 20096.069596407473 y Mediana=19616.96170362\n"
     ]
    }
   ],
   "source": [
    "media=  np.mean(datos)\n",
    "mediana=  np.median (datos) # Es el valor central cuando los datos se ordenan\n",
    "print(f\" Media= {media} y Mediana={mediana}\")"
   ]
  },
  {
   "cell_type": "code",
   "execution_count": 3,
   "metadata": {
    "colab": {
     "base_uri": "https://localhost:8080/"
    },
    "id": "K3PddQTzeSbe",
    "outputId": "77a90cef-3eab-4b52-a122-b0b84180b737"
   },
   "outputs": [
    {
     "data": {
      "text/plain": [
       "array([ 15088.16866976,  15418.19840141,  15734.54993286,  15863.1891019 ,\n",
       "        15900.99199346,  15976.19091218,  16065.28740846,  16076.0803968 ,\n",
       "        16080.396604  ,  16093.87394362,  16230.99569423,  16356.30883638,\n",
       "        16391.05471534,  16399.53666727,  16429.76520489,  16430.22605648,\n",
       "        16472.23814912,  16506.25601234,  16608.00857256,  16680.78643896,\n",
       "        17136.82562646,  17257.38914481,  17449.33587048,  17473.22462941,\n",
       "        17787.49153553,  17796.59857265,  17863.99189135,  17866.57170504,\n",
       "        17930.00086218,  18029.23605381,  18151.20251057,  18178.66144402,\n",
       "        18247.28942281,  18349.6148917 ,  18359.73400586,  18368.76631486,\n",
       "        18399.20440442,  18447.24845996,  18491.64362995,  18542.39963897,\n",
       "        18629.93657956,  18659.447816  ,  18707.35776162,  18782.06963533,\n",
       "        19120.55590623,  19300.44547943,  19390.06586292,  19490.66140063,\n",
       "        19576.41846511,  19592.23525297, 500000.        ,  19703.09323869,\n",
       "        20131.79000655,  20144.40869092,  20259.97884259,  20363.92036153,\n",
       "        20765.0093    ,  20921.01678918,  21041.00705409,  21166.05660042,\n",
       "        21238.50433427,  21248.98951606,  21277.57019136,  21386.00467423,\n",
       "        21700.45079257,  21828.44569896,  21918.36186635,  22109.41467321,\n",
       "        22277.62252983,  22375.69143584,  22648.32723602,  22697.16037225,\n",
       "        22719.95125574,  22854.96742846,  22975.00823177,  23036.68135264,\n",
       "        23049.10493756,  23154.25832262,  23291.69006201,  23341.4119319 ,\n",
       "        23397.56504815,  23592.19904231,  23596.36807568,  23736.8059911 ,\n",
       "        23753.90626155,  23911.15313045,  24060.39549931,  24093.15899423,\n",
       "        24178.81818209,  24184.99823939,  24194.45002281,  24253.16923715,\n",
       "        24402.71819937,  24422.58763433,  24497.08766578,  24703.49693113,\n",
       "        24720.73467051,  24783.36642087,  24803.15924836,  24875.50677766])"
      ]
     },
     "execution_count": 3,
     "metadata": {},
     "output_type": "execute_result"
    }
   ],
   "source": [
    "# El vecino 50 tiene unos ingresos significativamente mayores que el resto\n",
    "datos[50]=500000\n",
    "datos"
   ]
  },
  {
   "cell_type": "markdown",
   "metadata": {
    "id": "iba-kYjPgMR6"
   },
   "source": [
    "Cálculo de media y mediana en toda la muestra"
   ]
  },
  {
   "cell_type": "code",
   "execution_count": 4,
   "metadata": {
    "colab": {
     "base_uri": "https://localhost:8080/"
    },
    "id": "V-xhWMdvdf1H",
    "outputId": "1acd23c5-ea18-4bcb-f982-e03da83ad11e"
   },
   "outputs": [
    {
     "name": "stdout",
     "output_type": "stream",
     "text": [
      " Media= 24899.652714864784 y Mediana=19647.664245831245\n"
     ]
    }
   ],
   "source": [
    "media=  np.mean(datos)\n",
    "mediana=  np.median (datos) # Es el valor central cuando los datos se ordenan\n",
    "print(f\" Media= {media} y Mediana={mediana}\")"
   ]
  },
  {
   "cell_type": "markdown",
   "metadata": {
    "id": "Ippzu4RWYVMr"
   },
   "source": [
    "Notar que los ingresos del barrio son aprox. 20000 euros. El hecho que se haya trasladado un vecino rico ha incrementando aprox. en 5000 euros la media. La mediana es insensible a este hecho. Se trata de identificar que datos son influyentess para los dos procedimientos estadísticos"
   ]
  },
  {
   "cell_type": "markdown",
   "metadata": {},
   "source": [
    "Ejercicio: Aplicar el método de describe para ver un resumen estadístico de los datos."
   ]
  },
  {
   "cell_type": "code",
   "execution_count": 5,
   "metadata": {},
   "outputs": [
    {
     "data": {
      "text/html": [
       "<div>\n",
       "<style scoped>\n",
       "    .dataframe tbody tr th:only-of-type {\n",
       "        vertical-align: middle;\n",
       "    }\n",
       "\n",
       "    .dataframe tbody tr th {\n",
       "        vertical-align: top;\n",
       "    }\n",
       "\n",
       "    .dataframe thead th {\n",
       "        text-align: right;\n",
       "    }\n",
       "</style>\n",
       "<table border=\"1\" class=\"dataframe\">\n",
       "  <thead>\n",
       "    <tr style=\"text-align: right;\">\n",
       "      <th></th>\n",
       "      <th>0</th>\n",
       "    </tr>\n",
       "  </thead>\n",
       "  <tbody>\n",
       "    <tr>\n",
       "      <th>count</th>\n",
       "      <td>100.000000</td>\n",
       "    </tr>\n",
       "    <tr>\n",
       "      <th>mean</th>\n",
       "      <td>24899.652715</td>\n",
       "    </tr>\n",
       "    <tr>\n",
       "      <th>std</th>\n",
       "      <td>48081.947522</td>\n",
       "    </tr>\n",
       "    <tr>\n",
       "      <th>min</th>\n",
       "      <td>15088.168670</td>\n",
       "    </tr>\n",
       "    <tr>\n",
       "      <th>25%</th>\n",
       "      <td>17794.321813</td>\n",
       "    </tr>\n",
       "    <tr>\n",
       "      <th>50%</th>\n",
       "      <td>19647.664246</td>\n",
       "    </tr>\n",
       "    <tr>\n",
       "      <th>75%</th>\n",
       "      <td>23039.787249</td>\n",
       "    </tr>\n",
       "    <tr>\n",
       "      <th>max</th>\n",
       "      <td>500000.000000</td>\n",
       "    </tr>\n",
       "  </tbody>\n",
       "</table>\n",
       "</div>"
      ],
      "text/plain": [
       "                   0\n",
       "count     100.000000\n",
       "mean    24899.652715\n",
       "std     48081.947522\n",
       "min     15088.168670\n",
       "25%     17794.321813\n",
       "50%     19647.664246\n",
       "75%     23039.787249\n",
       "max    500000.000000"
      ]
     },
     "execution_count": 5,
     "metadata": {},
     "output_type": "execute_result"
    }
   ],
   "source": [
    "pd.DataFrame(datos).describe()"
   ]
  },
  {
   "cell_type": "markdown",
   "metadata": {
    "id": "KWZNffk-f-Aq"
   },
   "source": [
    "**Ejercicio**: Aplicar el método de Probabilidad global, para detectar los outliers utilizado en el ejemplo 2_3_Outliers"
   ]
  },
  {
   "cell_type": "code",
   "execution_count": 6,
   "metadata": {
    "id": "cOJAoEOo3DS5"
   },
   "outputs": [],
   "source": [
    "# CRITERIO 1: PROBABILIDAD GLOBAL - Explicado en el capítulo 5 - Preprocesamiento (Semana 2), en la pág 10\n",
    "# Asumiendo que las variables tiene una distribución normal.\n",
    "# Probabilidad de la muestra de estar dentro de las bandas\n",
    "p_g=0.95\n",
    "# probabilidad global \n",
    "alfa_g=(1-p_g)/2\n",
    "# probabilidad  para un solo dato \n",
    "alfa= 1-(1-alfa_g)**(1/len(datos)) # Se realiza este ajuste para ser más precisos."
   ]
  },
  {
   "cell_type": "code",
   "execution_count": 7,
   "metadata": {
    "colab": {
     "base_uri": "https://localhost:8080/"
    },
    "id": "XLgmk7BI2x05",
    "outputId": "b4445c34-166c-4c2a-f54d-d8b345d6b909"
   },
   "outputs": [
    {
     "name": "stdout",
     "output_type": "stream",
     "text": [
      " Alfa =0.00025\n",
      " Z_alfa =3.65906\n"
     ]
    }
   ],
   "source": [
    "import scipy.stats as st\n",
    "## CRITERIO 2:  Criterio Chauvenet\n",
    "# alfa=1/(2*len(datos))\n",
    "Z_alfa=st.norm.ppf(1-alfa/2)\n",
    "# Impresión de resultados\n",
    "alfa=round(alfa,5)\n",
    "Z_alfa=round(Z_alfa,5)\n",
    "print(f\" Alfa ={alfa}\")\n",
    "print(f\" Z_alfa ={Z_alfa}\")"
   ]
  },
  {
   "cell_type": "markdown",
   "metadata": {
    "id": "xC3JEVvLhX1d"
   },
   "source": [
    "Cálculo de bandas\n",
    "\n",
    "Truco: Si los datos tiene una distribución normal calcula estas bandas con la fórmula/técnica propuesta en las siguientes celdas"
   ]
  },
  {
   "cell_type": "code",
   "execution_count": 8,
   "metadata": {
    "colab": {
     "base_uri": "https://localhost:8080/"
    },
    "id": "Kw1-glRYhSp0",
    "outputId": "58ec7cf4-6288-439b-ac36-8e898746b427"
   },
   "outputs": [
    {
     "name": "stdout",
     "output_type": "stream",
     "text": [
      " Banda= [ -150153.1943,199952.4997]\n"
     ]
    }
   ],
   "source": [
    "xL=  round(np.mean(datos)-Z_alfa*  np.std(datos),4)\n",
    "xU=  round(np.mean(datos)+Z_alfa*  np.std(datos),4)\n",
    "print(f\" Banda= [ {xL},{xU}]\")"
   ]
  },
  {
   "cell_type": "code",
   "execution_count": 9,
   "metadata": {
    "colab": {
     "base_uri": "https://localhost:8080/"
    },
    "id": "xzJ3sI2vhT-9",
    "outputId": "d2cc07a8-7f0a-4c3d-cb18-991fdbafa81c"
   },
   "outputs": [
    {
     "name": "stdout",
     "output_type": "stream",
     "text": [
      " El dato[50]=500000.0 es un outlier\n"
     ]
    }
   ],
   "source": [
    "for i in  range(len(datos)):\n",
    "        if datos[i] < xL  or datos[i]>xU:\n",
    "          print(f\" El dato[{i}]={datos[i]} es un outlier\")"
   ]
  },
  {
   "cell_type": "markdown",
   "metadata": {
    "id": "pBsJTzKHUegV"
   },
   "source": [
    "Otra forma de detactar los outliers\n",
    "\n",
    "**Método :**  Detectemos los outlier de phi mediante el método Jackknife y a continuación aplicamos el método de la distancia entre Quartiles"
   ]
  },
  {
   "cell_type": "code",
   "execution_count": 10,
   "metadata": {
    "colab": {
     "base_uri": "https://localhost:8080/"
    },
    "id": "Aa2N8m89Y4mN",
    "outputId": "a8a80793-d7b0-444f-88a4-3dd99922164a"
   },
   "outputs": [
    {
     "data": {
      "text/plain": [
       "array([24998.75861431, 24995.42498066, 24992.22951064, 24990.9301251 ,\n",
       "       24990.54827771, 24989.78869267, 24988.88872806, 24988.77970798,\n",
       "       24988.73610992, 24988.59997518, 24987.21490699, 24985.94911768,\n",
       "       24985.5981492 , 24985.51247292, 24985.20713416, 24985.20247909,\n",
       "       24984.77811452, 24984.43449974, 24983.4066961 , 24982.67156614,\n",
       "       24978.0651097 , 24976.84729638, 24974.90844057, 24974.66713997,\n",
       "       24971.49272678, 24971.4007365 , 24970.71999591, 24970.69393719,\n",
       "       24970.05323863, 24969.05086296, 24967.81887854, 24967.54151558,\n",
       "       24966.84830367, 24965.81471308, 24965.7124998 , 24965.62126436,\n",
       "       24965.31380891, 24964.82851542, 24964.38007936, 24963.8673924 ,\n",
       "       24962.98318088, 24962.68508758, 24962.20114874, 24961.44648334,\n",
       "       24958.0274301 , 24956.21036371, 24955.30510731, 24954.28899077,\n",
       "       24953.42275779, 24953.26299226, 20100.65930794, 24952.14321462,\n",
       "       24947.81294424, 24947.68548278, 24946.51810751, 24945.46819318,\n",
       "       24941.41678976, 24939.84095654, 24938.62893366, 24937.36580693,\n",
       "       24936.63401164, 24936.52810071, 24936.23940702, 24935.14410921,\n",
       "       24931.9678858 , 24930.67500795, 24929.76676384, 24927.83693751,\n",
       "       24926.13786825, 24925.14727324, 24922.39337627, 24921.90011226,\n",
       "       24921.66990132, 24920.3061016 , 24919.09356823, 24918.47060741,\n",
       "       24918.34511666, 24917.28296125, 24915.89476186, 24915.39252075,\n",
       "       24914.82531756, 24912.85931762, 24912.81720617, 24911.39864137,\n",
       "       24911.22591136, 24909.63755915, 24908.13006048, 24907.79911608,\n",
       "       24906.93387176, 24906.87144694, 24906.77597438, 24906.182851  ,\n",
       "       24904.67225543, 24904.47155406, 24903.71902849, 24901.63408642,\n",
       "       24901.45996784, 24900.8273239 , 24900.62739634, 24899.89661322])"
      ]
     },
     "execution_count": 10,
     "metadata": {},
     "output_type": "execute_result"
    }
   ],
   "source": [
    "phi=np.zeros(len(datos)) # phi es un array de la misma longitud que datos pero con el valor cero en cada una de sus posiciones\n",
    "# En el bucle lo que se realiza es el método Jackknife, es decir, prepara los datos para realizar un análisis estadístico sin el dato i.\n",
    "# Para ello, calcula la media de todos los elementos excluyendo el elemento de la posición i que está procesando en el bucle.   \n",
    "# De forma que obtiene un índice de calidad del modelo para cada uno de los elementos.\n",
    "for i in  range(len(datos)):\n",
    "  datos_aux=datos\n",
    "  datos_sin_i=np.delete(datos_aux, i)\n",
    "  phi[i]=np.mean(datos_sin_i)   \n",
    "phi      "
   ]
  },
  {
   "cell_type": "code",
   "execution_count": 11,
   "metadata": {
    "colab": {
     "base_uri": "https://localhost:8080/"
    },
    "id": "02SEYuHJ-iol",
    "outputId": "b9c750a8-068a-49d4-f33f-c90cc961d9bd"
   },
   "outputs": [
    {
     "name": "stdout",
     "output_type": "stream",
     "text": [
      " El dato 50 es una observación influyente para la media\n"
     ]
    }
   ],
   "source": [
    "# Aplicamos el método de la distancia entre cuartiles, en este caso, al aplicar el método Jackknife no obtenemos \n",
    "# el valor del elemento que es considerado Outlier, sino la posición del mismo.\n",
    "Q1 = np.quantile(phi,0.25)\n",
    "Q3 = np.quantile(phi,0.75)\n",
    "IQR = Q3 - Q1\n",
    "xL=Q1 - 1.5 * IQR\n",
    "xU=Q3 + 1.5 * IQR\n",
    "for i in  range(len(datos)):\n",
    "        if phi[i] < xL  or phi[i]>xU:\n",
    "          print(f\" El dato {i} es una observación influyente para la media\")"
   ]
  },
  {
   "cell_type": "code",
   "execution_count": 12,
   "metadata": {
    "colab": {
     "base_uri": "https://localhost:8080/",
     "height": 300
    },
    "id": "CEffUKlZ9I7z",
    "outputId": "3ea0a357-4769-4d5e-d68a-106370fc5e30"
   },
   "outputs": [
    {
     "data": {
      "text/html": [
       "<div>\n",
       "<style scoped>\n",
       "    .dataframe tbody tr th:only-of-type {\n",
       "        vertical-align: middle;\n",
       "    }\n",
       "\n",
       "    .dataframe tbody tr th {\n",
       "        vertical-align: top;\n",
       "    }\n",
       "\n",
       "    .dataframe thead th {\n",
       "        text-align: right;\n",
       "    }\n",
       "</style>\n",
       "<table border=\"1\" class=\"dataframe\">\n",
       "  <thead>\n",
       "    <tr style=\"text-align: right;\">\n",
       "      <th></th>\n",
       "      <th>0</th>\n",
       "    </tr>\n",
       "  </thead>\n",
       "  <tbody>\n",
       "    <tr>\n",
       "      <th>count</th>\n",
       "      <td>100.000000</td>\n",
       "    </tr>\n",
       "    <tr>\n",
       "      <th>mean</th>\n",
       "      <td>24899.652715</td>\n",
       "    </tr>\n",
       "    <tr>\n",
       "      <th>std</th>\n",
       "      <td>485.676238</td>\n",
       "    </tr>\n",
       "    <tr>\n",
       "      <th>min</th>\n",
       "      <td>20100.659308</td>\n",
       "    </tr>\n",
       "    <tr>\n",
       "      <th>25%</th>\n",
       "      <td>24918.439235</td>\n",
       "    </tr>\n",
       "    <tr>\n",
       "      <th>50%</th>\n",
       "      <td>24952.703103</td>\n",
       "    </tr>\n",
       "    <tr>\n",
       "      <th>75%</th>\n",
       "      <td>24971.423734</td>\n",
       "    </tr>\n",
       "    <tr>\n",
       "      <th>max</th>\n",
       "      <td>24998.758614</td>\n",
       "    </tr>\n",
       "  </tbody>\n",
       "</table>\n",
       "</div>"
      ],
      "text/plain": [
       "                  0\n",
       "count    100.000000\n",
       "mean   24899.652715\n",
       "std      485.676238\n",
       "min    20100.659308\n",
       "25%    24918.439235\n",
       "50%    24952.703103\n",
       "75%    24971.423734\n",
       "max    24998.758614"
      ]
     },
     "execution_count": 12,
     "metadata": {},
     "output_type": "execute_result"
    }
   ],
   "source": [
    "pd.DataFrame(phi).describe()"
   ]
  },
  {
   "cell_type": "markdown",
   "metadata": {
    "id": "Jdusuj-NhGIM"
   },
   "source": [
    "**Ejercicio**: Repetir el mismo procedimiento de detectar los outliers para la mediana: ¿Qué ocurre?"
   ]
  },
  {
   "cell_type": "code",
   "execution_count": 13,
   "metadata": {
    "colab": {
     "base_uri": "https://localhost:8080/"
    },
    "id": "ofEJ8p_Bi_MV",
    "outputId": "31cc7207-c9a6-4a6e-de65-5daa267a19ce"
   },
   "outputs": [
    {
     "name": "stdout",
     "output_type": "stream",
     "text": [
      " Banda= [ -155405.1828,194700.5112]\n"
     ]
    }
   ],
   "source": [
    "xL=  round(np.median(datos)-Z_alfa*  np.std(datos),4)\n",
    "xU=  round(np.median(datos)+Z_alfa*  np.std(datos),4)\n",
    "print(f\" Banda= [ {xL},{xU}]\")"
   ]
  },
  {
   "cell_type": "code",
   "execution_count": 14,
   "metadata": {
    "colab": {
     "base_uri": "https://localhost:8080/"
    },
    "id": "MBppLGPxjcFz",
    "outputId": "2553dce9-a3e6-48b2-920a-d228a52d523b"
   },
   "outputs": [
    {
     "name": "stdout",
     "output_type": "stream",
     "text": [
      " El dato[50]=500000.0 es un outlier\n"
     ]
    }
   ],
   "source": [
    "for i in  range(len(datos)):\n",
    "        if datos[i] < xL  or datos[i]>xU:\n",
    "          print(f\" El dato[{i}]={datos[i]} es un outlier\")"
   ]
  },
  {
   "cell_type": "markdown",
   "metadata": {
    "id": "sSPGXJNqkFeM"
   },
   "source": [
    "En la mayoría de los casos, los outliers tienen influencia en la media , pero no en la mediana , o la moda . Por lo tanto, los outliers son importantes en su efecto en la media.\n",
    "La mediana es insensible a este hecho."
   ]
  }
 ],
 "metadata": {
  "colab": {
   "provenance": []
  },
  "kernelspec": {
   "display_name": "Python 3 (ipykernel)",
   "language": "python",
   "name": "python3"
  },
  "language_info": {
   "codemirror_mode": {
    "name": "ipython",
    "version": 3
   },
   "file_extension": ".py",
   "mimetype": "text/x-python",
   "name": "python",
   "nbconvert_exporter": "python",
   "pygments_lexer": "ipython3",
   "version": "3.11.5"
  }
 },
 "nbformat": 4,
 "nbformat_minor": 1
}
