{
  "nbformat": 4,
  "nbformat_minor": 0,
  "metadata": {
    "colab": {
      "provenance": []
    },
    "kernelspec": {
      "name": "python3",
      "display_name": "Python 3"
    },
    "language_info": {
      "name": "python"
    }
  },
  "cells": [
    {
      "cell_type": "markdown",
      "source": [
        "# UT3 - Algoritmos y herramientas para el aprendizaje supervisado"
      ],
      "metadata": {
        "id": "JYqrbRSEjUSX"
      }
    },
    {
      "cell_type": "markdown",
      "source": [
        "\n",
        "\n",
        "# Actividad 3.1 - Métricas de error para los problemas de regresión\n"
      ],
      "metadata": {
        "id": "irnc2RYVuYVU"
      }
    },
    {
      "cell_type": "markdown",
      "source": [
        "## **Ejercicio 1**"
      ],
      "metadata": {
        "id": "H-eGFnYgvnjI"
      }
    },
    {
      "cell_type": "markdown",
      "source": [
        "#Fórmula del error absoluto medio - MAE\n",
        "$$ MAE = \\frac{1}{N} \\sum_{i=1}^{N} |y_i - \\hat{y}_i| $$"
      ],
      "metadata": {
        "id": "1WFpWlzX2fY-"
      }
    },
    {
      "cell_type": "code",
      "execution_count": 1,
      "metadata": {
        "colab": {
          "base_uri": "https://localhost:8080/"
        },
        "id": "jVLFdfzxdsfG",
        "outputId": "9695c78c-c3a1-4caf-c8b0-f48e37f827ea"
      },
      "outputs": [
        {
          "output_type": "execute_result",
          "data": {
            "text/plain": [
              "0.0"
            ]
          },
          "metadata": {},
          "execution_count": 1
        }
      ],
      "source": [
        "#Error absoluto medio - mae\n",
        "from sklearn.metrics import mean_absolute_error\n",
        "# Ejemplo 1\n",
        "y_true = [2.5, 0, 2, 8]\n",
        "y_pred = [2.5, 0, 2, 8]\n",
        "mean_absolute_error(y_true, y_pred)\n"
      ]
    },
    {
      "cell_type": "code",
      "source": [
        "# Ejer 1: Crear dos vectores/arrays de valores ciertos y valores previstos, y calcular el mae.\n",
        "# ¿Qué valores deberían de tener el array pred para que el error fuese 0? ¿y para que error fuese de 0.25?"
      ],
      "metadata": {
        "id": "67XK1bXegMai"
      },
      "execution_count": null,
      "outputs": []
    },
    {
      "cell_type": "markdown",
      "source": [
        "Para que el error sea 0, los valores de ambos vectores deberían ser los mismos."
      ],
      "metadata": {
        "id": "7nE9KhtytGqJ"
      }
    },
    {
      "cell_type": "code",
      "source": [
        "y_true = [5, 10, 15, 20]\n",
        "y_pred = [5, 10, 15, 20]\n",
        "print(\"MAE:\", mean_absolute_error(y_true, y_pred))"
      ],
      "metadata": {
        "colab": {
          "base_uri": "https://localhost:8080/"
        },
        "id": "bOwojYCItHbp",
        "outputId": "06af0831-f453-453c-d61c-527cecbb7c28"
      },
      "execution_count": 11,
      "outputs": [
        {
          "output_type": "stream",
          "name": "stdout",
          "text": [
            "MAE: 0.0\n"
          ]
        }
      ]
    },
    {
      "cell_type": "markdown",
      "source": [
        "Para que el error sea 0.25, la diferencia media entre cada par de valores de ambos vectores definidos por el mismo índice debe ser 0.25.\n",
        "\n",
        "El vector de ejemplo tiene longitud 4, por lo que si multiplicamos 0.25 por dicha longitud tenemos que la suma de todas las diferencias absolutas (es decir, eliminando el signo) debe ser igual a 1."
      ],
      "metadata": {
        "id": "QHimgCu3tHn5"
      }
    },
    {
      "cell_type": "code",
      "source": [
        "y_true = [5, 10, 15, 20]\n",
        "y_pred = [5, 10, 15, 21]\n",
        "print(\"MAE:\", mean_absolute_error(y_true, y_pred))"
      ],
      "metadata": {
        "colab": {
          "base_uri": "https://localhost:8080/"
        },
        "id": "-4gkQwOutH1v",
        "outputId": "74f390e9-3299-40ae-de60-dd93415d411a"
      },
      "execution_count": 12,
      "outputs": [
        {
          "output_type": "stream",
          "name": "stdout",
          "text": [
            "MAE: 0.25\n"
          ]
        }
      ]
    },
    {
      "cell_type": "markdown",
      "source": [
        "## **Ejercicio 2**"
      ],
      "metadata": {
        "id": "v4wZXdwRvwz0"
      }
    },
    {
      "cell_type": "code",
      "source": [
        "# Ejemplo 2\n",
        "y_true = [[0.5, 1], [-1, 1], [7, -6]]\n",
        "y_pred = [[0, 2], [-1, 2], [8, -5]]\n",
        "mean_absolute_error(y_true, y_pred)"
      ],
      "metadata": {
        "id": "3LhzsD30f60T",
        "colab": {
          "base_uri": "https://localhost:8080/"
        },
        "outputId": "e8848782-9cca-4df4-effe-71dd727fee29"
      },
      "execution_count": 4,
      "outputs": [
        {
          "output_type": "execute_result",
          "data": {
            "text/plain": [
              "0.75"
            ]
          },
          "metadata": {},
          "execution_count": 4
        }
      ]
    },
    {
      "cell_type": "code",
      "source": [
        "# Ejer 2: Crear dos matrices/arrays de valores ciertos y valores previstos, y calcular el mae.\n",
        "# ¿Qué valores deberían de tener el array pred para que el error fuese 0? ¿y para que error fuese de 0.33?"
      ],
      "metadata": {
        "id": "LnPx6A4Astfq"
      },
      "execution_count": null,
      "outputs": []
    },
    {
      "cell_type": "markdown",
      "source": [
        "Para que el error sea 0, los valores de ambas matrices deberían ser los mismos."
      ],
      "metadata": {
        "id": "IusCoIK3ubcJ"
      }
    },
    {
      "cell_type": "code",
      "source": [
        "y_true = [[5, 10], [15, 20], [25, 30]]\n",
        "y_pred = [[5, 10], [15, 20], [25, 30]]\n",
        "print(\"MAE:\", mean_absolute_error(y_true, y_pred))"
      ],
      "metadata": {
        "colab": {
          "base_uri": "https://localhost:8080/"
        },
        "outputId": "0b04f493-7417-49eb-a5ee-3015e19fb1a3",
        "id": "KpyJkVdywt7d"
      },
      "execution_count": 15,
      "outputs": [
        {
          "output_type": "stream",
          "name": "stdout",
          "text": [
            "MAE: 0.0\n"
          ]
        }
      ]
    },
    {
      "cell_type": "markdown",
      "source": [
        "Para que el error sea 0.33, la diferencia media entre cada par de valores de ambas matrices definidas por los mismos índices de fila y columna debe ser 0.33.\n",
        "La matriz de ejemplo tiene dimensión 2x3 y por tanto 6 elementos.\n",
        "\n",
        "Si multiplicamos 0.33 por dicha longitud tenemos que la suma de todas las diferencias absolutas (es decir, eliminando el signo) debe ser igual a 2.\n"
      ],
      "metadata": {
        "id": "Vv0QJ6_Qubqf"
      }
    },
    {
      "cell_type": "code",
      "source": [
        "y_true = [[5, 10], [15, 20], [25, 30]]\n",
        "y_pred = [[5, 10], [15, 20], [25, 32]]\n",
        "print(\"MAE:\", mean_absolute_error(y_true, y_pred))"
      ],
      "metadata": {
        "colab": {
          "base_uri": "https://localhost:8080/"
        },
        "id": "fazu-4kpubjA",
        "outputId": "95b1c63c-6fd8-41fd-8a74-4508d6fc954f"
      },
      "execution_count": 17,
      "outputs": [
        {
          "output_type": "stream",
          "name": "stdout",
          "text": [
            "MAE: 0.3333333333333333\n"
          ]
        }
      ]
    },
    {
      "cell_type": "code",
      "source": [
        "y_true = [[5, 10], [15, 20], [25, 30]]\n",
        "y_pred = [[5.33, 10.33], [15.33, 19.66], [25.33, 29.66]]\n",
        "print(\"MAE:\", mean_absolute_error(y_true, y_pred))"
      ],
      "metadata": {
        "colab": {
          "base_uri": "https://localhost:8080/"
        },
        "id": "44T4RHn_qt2b",
        "outputId": "f248ed0c-9880-4ddf-a5fa-57fc3878c202"
      },
      "execution_count": 23,
      "outputs": [
        {
          "output_type": "stream",
          "name": "stdout",
          "text": [
            "MAE: 0.33333333333333304\n"
          ]
        }
      ]
    },
    {
      "cell_type": "code",
      "source": [
        "y_true = [[5, 10], [15, 20], [25, 30]]\n",
        "y_pred = [[6, 10], [15, 20.33], [25.33, 29.66]]\n",
        "print(\"MAE:\", mean_absolute_error(y_true, y_pred))"
      ],
      "metadata": {
        "colab": {
          "base_uri": "https://localhost:8080/"
        },
        "id": "2cvJREuyrKv6",
        "outputId": "c100d988-6f54-488a-d9af-1e3903bb1b29"
      },
      "execution_count": 24,
      "outputs": [
        {
          "output_type": "stream",
          "name": "stdout",
          "text": [
            "MAE: 0.3333333333333327\n"
          ]
        }
      ]
    },
    {
      "cell_type": "markdown",
      "source": [
        "## **Ejercicio 3**"
      ],
      "metadata": {
        "id": "AJh4eDe2vz5c"
      }
    },
    {
      "cell_type": "markdown",
      "source": [
        "#Fórmula del error cuadrático medio - MSE\n",
        "$$ MSE = \\frac{1}{N} \\sum_{i=1}^{N} (y_i - \\hat{y}_i)^2  $$"
      ],
      "metadata": {
        "id": "Dz0tL_iN3Ku2"
      }
    },
    {
      "cell_type": "code",
      "source": [
        "# Error cuadrático medio - mse\n",
        "from sklearn.metrics import mean_squared_error\n",
        "y_true = [3, -0.5, 2, 7]\n",
        "y_pred = [2.5, 0.0, 2, 8]\n",
        "mean_squared_error(y_true, y_pred)"
      ],
      "metadata": {
        "colab": {
          "base_uri": "https://localhost:8080/"
        },
        "id": "59efr-GWgKP6",
        "outputId": "bae79643-0a41-453b-f07f-71c5b1a76fcf"
      },
      "execution_count": 26,
      "outputs": [
        {
          "output_type": "execute_result",
          "data": {
            "text/plain": [
              "0.375"
            ]
          },
          "metadata": {},
          "execution_count": 26
        }
      ]
    },
    {
      "cell_type": "code",
      "source": [
        "# Ejer 3: Crear dos vectores/arrays de valores ciertos y valores previstos, y calcular el mse.\n",
        "# ¿Qué valores deberían de tener el array pred para que el error fuese 0? ¿y para que error fuese de 0.25?\n",
        "# Nota: Es muy interesante comparar los resultados al aplicar mae y mse sobre el mismo conjunto de datos. Podrás observar\n",
        "# que mse \"penaliza más\" (es decir, el número que se obtiene es mayor) con las diferencias entre los valores originales y los predichos que mae\n"
      ],
      "metadata": {
        "id": "FLZt6j17u7sE"
      },
      "execution_count": null,
      "outputs": []
    },
    {
      "cell_type": "markdown",
      "source": [
        "Para que el error sea 0, los valores de ambos vectores deberían ser los mismos."
      ],
      "metadata": {
        "id": "qy7uHBAuxtab"
      }
    },
    {
      "cell_type": "code",
      "source": [
        "y_true = [5, 10, 15, 20]\n",
        "y_pred = [5, 10, 15, 20]\n",
        "print(\"MSE:\", mean_squared_error(y_true, y_pred))"
      ],
      "metadata": {
        "colab": {
          "base_uri": "https://localhost:8080/"
        },
        "id": "5NtcpmYLxpGP",
        "outputId": "bb4e8d71-b983-4982-e083-ac7e9ad2d53c"
      },
      "execution_count": 27,
      "outputs": [
        {
          "output_type": "stream",
          "name": "stdout",
          "text": [
            "MSE: 0.0\n"
          ]
        }
      ]
    },
    {
      "cell_type": "markdown",
      "source": [
        "Para que el error sea 0.25, el cuadrado de cada diferencia entre los pares de valores de ambos vectores definidos por el mismo índice debe ser de media la raíz de dicho valor. En este caso 0.5, cuyo cuadrado corresponde a 0.25.\n",
        "\n",
        "El vector de ejemplo tiene longitud 4, por lo que si multiplicamos 0.25 por dicha longitud tenemos que la suma de cada diferencia al cuadrado (el cuadrado elimina el signo en caso de ser negativo) debe ser igual a 1.\n"
      ],
      "metadata": {
        "id": "wpraOndwz2CP"
      }
    },
    {
      "cell_type": "code",
      "source": [
        "y_true = [5, 10, 15, 20]\n",
        "y_pred = [5, 10, 15, 21]\n",
        "print(\"MSE:\", mean_squared_error(y_true, y_pred))"
      ],
      "metadata": {
        "colab": {
          "base_uri": "https://localhost:8080/"
        },
        "id": "Tubp_nDVz2I3",
        "outputId": "1c356aab-93a5-4217-a7bd-99224bf3328f"
      },
      "execution_count": 28,
      "outputs": [
        {
          "output_type": "stream",
          "name": "stdout",
          "text": [
            "MSE: 0.25\n"
          ]
        }
      ]
    },
    {
      "cell_type": "code",
      "source": [
        "y_true = [5, 10, 15, 20]\n",
        "y_pred = [5.5, 10.5, 14.5, 20.5]\n",
        "print(\"MSE:\", mean_squared_error(y_true, y_pred))"
      ],
      "metadata": {
        "colab": {
          "base_uri": "https://localhost:8080/"
        },
        "id": "xwWz8d-t1UJn",
        "outputId": "6ffd7274-b564-48f7-872d-010c5e98dab5"
      },
      "execution_count": 29,
      "outputs": [
        {
          "output_type": "stream",
          "name": "stdout",
          "text": [
            "MSE: 0.25\n"
          ]
        }
      ]
    },
    {
      "cell_type": "code",
      "source": [
        "y_true = [5, 10, 15, 20]\n",
        "y_pred = [5, 10, 14.2, 20.6]\n",
        "print(\"MSE:\", mean_squared_error(y_true, y_pred))"
      ],
      "metadata": {
        "colab": {
          "base_uri": "https://localhost:8080/"
        },
        "id": "r8QEwx_l4o3G",
        "outputId": "87b889e8-a05a-4b43-94a9-4ab910157fe9"
      },
      "execution_count": 30,
      "outputs": [
        {
          "output_type": "stream",
          "name": "stdout",
          "text": [
            "MSE: 0.2500000000000007\n"
          ]
        }
      ]
    },
    {
      "cell_type": "code",
      "source": [
        "y_true = [5, 10, 15, 20]\n",
        "y_pred = [5.7, 10.5, 15.5, 19.9]\n",
        "print(\"MSE:\", mean_squared_error(y_true, y_pred))"
      ],
      "metadata": {
        "colab": {
          "base_uri": "https://localhost:8080/"
        },
        "id": "WHLa7Z2y_HJ8",
        "outputId": "38a4aaf7-aa2e-466b-9d6e-8b8daa613d5c"
      },
      "execution_count": 32,
      "outputs": [
        {
          "output_type": "stream",
          "name": "stdout",
          "text": [
            "MSE: 0.2500000000000001\n"
          ]
        }
      ]
    },
    {
      "cell_type": "markdown",
      "source": [
        "## **Ejercicio 4**"
      ],
      "metadata": {
        "id": "QazP5v2hv0ql"
      }
    },
    {
      "cell_type": "code",
      "source": [
        "# Ejer 4: Crear dos matrices/arrays de valores ciertos y valores previstos, y calcular el mae.\n",
        "# ¿Qué valores deberían de tener el array pred para que el error fuese 0? ¿y para que error fuese de 0.33?"
      ],
      "metadata": {
        "id": "M9nZd4nLvIRB"
      },
      "execution_count": null,
      "outputs": []
    },
    {
      "cell_type": "markdown",
      "source": [
        "Para que el error sea 0, los valores de ambas matrices deberían ser los mismos."
      ],
      "metadata": {
        "id": "F0RY7gO_xcZ8"
      }
    },
    {
      "cell_type": "code",
      "source": [
        "y_true = [[5, 10], [15, 20], [25, 30]]\n",
        "y_pred = [[5, 10], [15, 20], [25, 30]]\n",
        "print(\"MSE:\", mean_squared_error(y_true, y_pred))"
      ],
      "metadata": {
        "colab": {
          "base_uri": "https://localhost:8080/"
        },
        "id": "rReqgxbYxoE_",
        "outputId": "4092e9fc-b2de-43e8-c313-00f76393bfe6"
      },
      "execution_count": 33,
      "outputs": [
        {
          "output_type": "stream",
          "name": "stdout",
          "text": [
            "MSE: 0.0\n"
          ]
        }
      ]
    },
    {
      "cell_type": "markdown",
      "source": [
        "Para que el error sea 0.33 el cuadrado de cada diferencia entre los pares de valores de ambas matrices definidas por los mismos índices de fila y columna debe ser de media la raíz de dicho valor, 0.577….\n",
        "\n",
        "La matriz de ejemplo tiene dimensión 2x3 y por tanto 6 elementos. Si multiplicamos 0.33 por dicha longitud tenemos que la suma de cada diferencia al cuadrado (el cuadrado elimina el signo en caso de ser negativo) debe ser igual a 2."
      ],
      "metadata": {
        "id": "Wt39nyg8r4-z"
      }
    },
    {
      "cell_type": "code",
      "source": [
        "y_true = [[5, 10], [15, 20], [25, 30]]\n",
        "y_pred = [[5, 10], [15, 20], [26, 31]]\n",
        "print(\"MSE:\", mean_squared_error(y_true, y_pred))"
      ],
      "metadata": {
        "colab": {
          "base_uri": "https://localhost:8080/"
        },
        "id": "RjdtCew6r5Ha",
        "outputId": "e86f93de-1988-4829-845b-142917b545e5"
      },
      "execution_count": 36,
      "outputs": [
        {
          "output_type": "stream",
          "name": "stdout",
          "text": [
            "MSE: 0.3333333333333333\n"
          ]
        }
      ]
    },
    {
      "cell_type": "code",
      "source": [
        "y_true = [[5, 10], [15, 20], [25, 30]]\n",
        "y_pred = [[5, 9.4], [15, 20.8], [24, 30]]\n",
        "print(\"MSE:\", mean_squared_error(y_true, y_pred))"
      ],
      "metadata": {
        "colab": {
          "base_uri": "https://localhost:8080/"
        },
        "id": "HuXo-h7uxhmp",
        "outputId": "688ce9db-8ebb-4331-d6f3-3f02588377e5"
      },
      "execution_count": 37,
      "outputs": [
        {
          "output_type": "stream",
          "name": "stdout",
          "text": [
            "MSE: 0.3333333333333334\n"
          ]
        }
      ]
    },
    {
      "cell_type": "code",
      "source": [
        "y_true = [[5, 10], [15, 20], [25, 30]]\n",
        "y_pred = [[5.1, 10.1], [15.5, 19.7], [25.8, 29]]\n",
        "print(\"MSE:\", mean_squared_error(y_true, y_pred))"
      ],
      "metadata": {
        "colab": {
          "base_uri": "https://localhost:8080/"
        },
        "id": "-dsJGtHdxiMg",
        "outputId": "a213f098-b7e3-415f-ddbd-c21f13e03398"
      },
      "execution_count": 39,
      "outputs": [
        {
          "output_type": "stream",
          "name": "stdout",
          "text": [
            "MSE: 0.33333333333333354\n"
          ]
        }
      ]
    },
    {
      "cell_type": "markdown",
      "source": [
        "## **Ejercicio 5**"
      ],
      "metadata": {
        "id": "FINnsan2v1LB"
      }
    },
    {
      "cell_type": "markdown",
      "source": [
        "#Fórmula de error de porcentaje absoluto medio - MAPE\n",
        "\n",
        "$$ MAPE = \\frac{100\\%}{N} \\sum_{i=1}^{N} \\frac{|y_i - \\hat{y}_i|}{|y_i|}  $$\n"
      ],
      "metadata": {
        "id": "WQ4xTFhp3RXV"
      }
    },
    {
      "cell_type": "code",
      "source": [
        "# Error de porcentaje absoluto medio - mape\n",
        "from sklearn.metrics import mean_absolute_percentage_error\n",
        "y_true = [3, -0.5, 2, 7]\n",
        "y_pred = [2.5, 0.0, 2, 8]\n",
        "mean_absolute_percentage_error(y_true, y_pred)"
      ],
      "metadata": {
        "colab": {
          "base_uri": "https://localhost:8080/"
        },
        "id": "0j3DDJPnBTmF",
        "outputId": "a1b3d9b5-e165-4c8d-8800-8a3f02f04cf3"
      },
      "execution_count": 40,
      "outputs": [
        {
          "output_type": "execute_result",
          "data": {
            "text/plain": [
              "0.3273809523809524"
            ]
          },
          "metadata": {},
          "execution_count": 40
        }
      ]
    },
    {
      "cell_type": "code",
      "source": [
        "# Ejer 5: Crear dos vectores/arrays de valores ciertos y valores previstos, y calcular el mape.\n",
        "# ¿Qué valores deberían de tener el array pred para que el error fuese 0?\n"
      ],
      "metadata": {
        "id": "0vsYXdRqB0TE"
      },
      "execution_count": null,
      "outputs": []
    },
    {
      "cell_type": "markdown",
      "source": [
        "Para que el error sea 0, los valores de ambos vectores deberían ser los mismos."
      ],
      "metadata": {
        "id": "NcHeLelfxuzq"
      }
    },
    {
      "cell_type": "code",
      "source": [
        "y_true = [5, 10, 15, 20]\n",
        "y_pred = [5, 10, 15, 20]\n",
        "print(\"MAPE:\", mean_absolute_percentage_error(y_true, y_pred))"
      ],
      "metadata": {
        "colab": {
          "base_uri": "https://localhost:8080/"
        },
        "id": "l1BhNkcQxml2",
        "outputId": "dcd8e0a1-e6b2-465a-e119-690ca13819c8"
      },
      "execution_count": 41,
      "outputs": [
        {
          "output_type": "stream",
          "name": "stdout",
          "text": [
            "MAPE: 0.0\n"
          ]
        }
      ]
    },
    {
      "cell_type": "markdown",
      "source": [],
      "metadata": {
        "id": "riB9tSghyyS5"
      }
    },
    {
      "cell_type": "code",
      "source": [
        "y_true = [5, 10, 15, 20]\n",
        "y_pred = [5, 10, 15, 40]\n",
        "print(\"MAPE:\", mean_absolute_percentage_error(y_true, y_pred))"
      ],
      "metadata": {
        "colab": {
          "base_uri": "https://localhost:8080/"
        },
        "id": "s8dop4xwyybB",
        "outputId": "25cfe08d-4855-490f-ddc4-b11a6649deb8"
      },
      "execution_count": 184,
      "outputs": [
        {
          "output_type": "stream",
          "name": "stdout",
          "text": [
            "MAPE: 0.25\n"
          ]
        }
      ]
    },
    {
      "cell_type": "code",
      "source": [
        "y_true = [5, 10, 15, 20]\n",
        "y_pred = [5, 10, 30, 20]\n",
        "print(\"MAPE:\", mean_absolute_percentage_error(y_true, y_pred))"
      ],
      "metadata": {
        "colab": {
          "base_uri": "https://localhost:8080/"
        },
        "id": "yWTXWnw4zyQJ",
        "outputId": "9b26f0bf-2139-4dd8-9374-e054ef9836d4"
      },
      "execution_count": 192,
      "outputs": [
        {
          "output_type": "stream",
          "name": "stdout",
          "text": [
            "MAPE: 0.25\n"
          ]
        }
      ]
    },
    {
      "cell_type": "code",
      "source": [
        "y_true = [5, 10, 15, 20]\n",
        "y_pred = [7.5, 5, 15, 20]\n",
        "print(\"MAPE:\", mean_absolute_percentage_error(y_true, y_pred))"
      ],
      "metadata": {
        "colab": {
          "base_uri": "https://localhost:8080/"
        },
        "id": "cpXmWdgUz1-f",
        "outputId": "bea09e5b-ab2a-4619-beb5-8debac2da394"
      },
      "execution_count": 275,
      "outputs": [
        {
          "output_type": "stream",
          "name": "stdout",
          "text": [
            "MAPE: 0.25\n"
          ]
        }
      ]
    },
    {
      "cell_type": "markdown",
      "source": [
        "## **Ejercicio 6**"
      ],
      "metadata": {
        "id": "1jbmtKmav1ck"
      }
    },
    {
      "cell_type": "code",
      "source": [
        "# Ejer 6: Crear dos matrices/arrays de valores ciertos y valores previstos, y calcular el MAPE.\n",
        "# ¿Qué valores deberían de tener el array pred para que el error fuese 0?"
      ],
      "metadata": {
        "id": "085pmFVO-cA3"
      },
      "execution_count": null,
      "outputs": []
    },
    {
      "cell_type": "markdown",
      "source": [
        "Para que el error sea 0, los valores de ambas matrices deberían ser los mismos."
      ],
      "metadata": {
        "id": "F9j2AX2Gxh70"
      }
    },
    {
      "cell_type": "code",
      "source": [
        "y_true = [[5, 10], [15, 20], [25, 30]]\n",
        "y_pred = [[5, 10], [15, 20], [25, 30]]\n",
        "print(\"MAPE:\", mean_absolute_percentage_error(y_true, y_pred))"
      ],
      "metadata": {
        "colab": {
          "base_uri": "https://localhost:8080/"
        },
        "id": "oiuuUbKGxmGo",
        "outputId": "a96ac976-28c1-4898-e60d-ea56e26591b4"
      },
      "execution_count": 276,
      "outputs": [
        {
          "output_type": "stream",
          "name": "stdout",
          "text": [
            "MAPE: 0.0\n"
          ]
        }
      ]
    },
    {
      "cell_type": "markdown",
      "source": [
        "Para que el error sea 0.33, la diferencia media entre cada par de valores de ambas matrices definidas por los mismos índices de fila y columna debe ser un 33% del valor cierto.\n",
        "La matriz de ejemplo tiene dimensión 2x3 y por tanto 6 elementos. Si multiplicamos 0.33 (33.33%) por dicha longitud tenemos que la suma de todas las diferencias absolutas (es decir, eliminando el signo) debe ser igual a 2(200%).\n"
      ],
      "metadata": {
        "id": "0aapc6y1yzCR"
      }
    },
    {
      "cell_type": "code",
      "source": [
        "y_true = [[5, 10], [15, 20], [25, 30]]\n",
        "y_pred = [[5, 10], [15, 20], [25, 90]]\n",
        "print(\"MAPE:\", mean_absolute_percentage_error(y_true, y_pred))"
      ],
      "metadata": {
        "colab": {
          "base_uri": "https://localhost:8080/"
        },
        "id": "58Ssm12dyzKA",
        "outputId": "c0942025-3888-460f-8501-ceeba3391609"
      },
      "execution_count": 277,
      "outputs": [
        {
          "output_type": "stream",
          "name": "stdout",
          "text": [
            "MAPE: 0.3333333333333333\n"
          ]
        }
      ]
    },
    {
      "cell_type": "code",
      "source": [
        "y_true = [[5, 10], [15, 20], [25, 30]]\n",
        "y_pred = [[10, 10], [15, 20], [25, 60]]\n",
        "print(\"MAPE:\", mean_absolute_percentage_error(y_true, y_pred))"
      ],
      "metadata": {
        "colab": {
          "base_uri": "https://localhost:8080/"
        },
        "id": "Gi6L7tOq2f34",
        "outputId": "fde3ec1b-9bc4-4983-aeee-d53ca104f8de"
      },
      "execution_count": 278,
      "outputs": [
        {
          "output_type": "stream",
          "name": "stdout",
          "text": [
            "MAPE: 0.3333333333333333\n"
          ]
        }
      ]
    },
    {
      "cell_type": "code",
      "source": [
        "y_true = [[5, 10], [15, 20], [25, 30]]\n",
        "y_pred = [[10,14],[15,20],[30,18]]\n",
        "print(\"MAPE:\", mean_absolute_percentage_error(y_true, y_pred))"
      ],
      "metadata": {
        "colab": {
          "base_uri": "https://localhost:8080/"
        },
        "id": "DRX6UniF2gHP",
        "outputId": "0d767d60-df05-4a0b-c0c9-5bfab1a2089c"
      },
      "execution_count": 490,
      "outputs": [
        {
          "output_type": "stream",
          "name": "stdout",
          "text": [
            "MAPE: 0.3333333333333333\n"
          ]
        }
      ]
    }
  ]
}